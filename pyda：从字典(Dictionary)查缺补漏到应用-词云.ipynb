{
 "cells": [
  {
   "cell_type": "markdown",
   "metadata": {},
   "source": [
    "### 前言\n",
    "@Z.Liang, 20190809\n",
    "<br>最近在读《用python进行数据分析第二版》。第89页看到defaultdict时，觉得有点意思。\n",
    "<br>于是，结合自己以前写的脚本，对比总结。\n",
    "\n",
    "### dict有很多方法，其中get(), setdefault()比较有意思。\n",
    "<br>\n",
    "\n",
    "|方法|含义|\n",
    "|-----|-----|\n",
    "|.get(key,arg)|```lambda x: dict[key] if dict[key] != None else arg```|\n",
    "|.setdefault(key,arg)|```dict[key] if dict[key] != None else dict[key]=arg```|"
   ]
  },
  {
   "cell_type": "code",
   "execution_count": 1,
   "metadata": {},
   "outputs": [],
   "source": [
    "words = ['apple', 'bear', 'arguement', 'banana','cocona', 'cyan', 'apple', 'bear', 'apple', 'bear', 'cocona', 'cyan', 'apple', 'bear', 'cocona', 'cyan']"
   ]
  },
  {
   "cell_type": "code",
   "execution_count": 2,
   "metadata": {},
   "outputs": [],
   "source": [
    "d = {}\n",
    "for word in words:\n",
    "    letter = word[0]\n",
    "    d.setdefault(letter, []).append(word)"
   ]
  },
  {
   "cell_type": "code",
   "execution_count": 3,
   "metadata": {},
   "outputs": [
    {
     "data": {
      "text/plain": [
       "{'a': ['apple', 'arguement', 'apple', 'apple', 'apple'],\n",
       " 'b': ['bear', 'banana', 'bear', 'bear', 'bear'],\n",
       " 'c': ['cocona', 'cyan', 'cocona', 'cyan', 'cocona', 'cyan']}"
      ]
     },
     "execution_count": 3,
     "metadata": {},
     "output_type": "execute_result"
    }
   ],
   "source": [
    "d"
   ]
  },
  {
   "cell_type": "code",
   "execution_count": 4,
   "metadata": {},
   "outputs": [
    {
     "name": "stdout",
     "output_type": "stream",
     "text": [
      "a ['apple', 'arguement', 'apple', 'apple', 'apple']\n",
      "b ['bear', 'banana', 'bear', 'bear', 'bear']\n",
      "c ['cocona', 'cyan', 'cocona', 'cyan', 'cocona', 'cyan']\n"
     ]
    }
   ],
   "source": [
    "for k, v in d.items():\n",
    "    print(k, v)"
   ]
  },
  {
   "cell_type": "markdown",
   "metadata": {},
   "source": [
    "## 计数方法一：常规方法\n",
    ">1. 字典化(关键字:计数) d={}\n",
    ">2. 将字典的元素list化 li = list(d.items())\n",
    ">4. 排序li.sort(lambda x: x[1], reverse=True) \n",
    ">5. 然后读取top n\n",
    "\n",
    "```for i in range(10):\n",
    "       k, v = li[i]\n",
    "       print(\"{0}{1}\".format(k, v))\n",
    "```"
   ]
  },
  {
   "cell_type": "code",
   "execution_count": 5,
   "metadata": {},
   "outputs": [],
   "source": [
    "counter_d = {}\n",
    "for word in words:\n",
    "    counter_d[word] = counter_d.get(word, 0) + 1"
   ]
  },
  {
   "cell_type": "code",
   "execution_count": 6,
   "metadata": {},
   "outputs": [
    {
     "data": {
      "text/plain": [
       "{'apple': 4, 'bear': 4, 'arguement': 1, 'banana': 1, 'cocona': 3, 'cyan': 3}"
      ]
     },
     "execution_count": 6,
     "metadata": {},
     "output_type": "execute_result"
    }
   ],
   "source": [
    "counter_d"
   ]
  },
  {
   "cell_type": "code",
   "execution_count": 7,
   "metadata": {},
   "outputs": [
    {
     "data": {
      "text/plain": [
       "[('apple', 4),\n",
       " ('bear', 4),\n",
       " ('cocona', 3),\n",
       " ('cyan', 3),\n",
       " ('arguement', 1),\n",
       " ('banana', 1)]"
      ]
     },
     "execution_count": 7,
     "metadata": {},
     "output_type": "execute_result"
    }
   ],
   "source": [
    "li = list(counter_d.items())\n",
    "li.sort(key=lambda x: x[1], reverse=True)\n",
    "li"
   ]
  },
  {
   "cell_type": "code",
   "execution_count": 8,
   "metadata": {},
   "outputs": [
    {
     "name": "stdout",
     "output_type": "stream",
     "text": [
      "apple         4\n",
      "bear          4\n",
      "cocona        3\n",
      "cyan          3\n",
      "arguement     1\n"
     ]
    }
   ],
   "source": [
    "for i in range(5):\n",
    "    k, v = li[i]\n",
    "    print(\"{0:<10}{1:>5}\".format(k, v))"
   ]
  },
  {
   "cell_type": "markdown",
   "metadata": {},
   "source": [
    "## 延伸：collections\n",
    "<br>collections模块里有一个数据类型叫<font color=green>defaultdict<font color=black>, 接受一个类型并初始化字典 [hight-performance container datatypes](https://docs.python.org/2/library/collections.html)\n",
    "\n",
    "|数据类型|含义|版本|实例|\n",
    "|---|---|---|---|\n",
    "|namedtuple()|factory function for creating **tuple** subclasses with named fields|New in version 2.6|带有名字的元组，该元组的元素通过名字(而不是索引)进行获取|\n",
    "|deque|**list-like** container with fast appends and pops on either end|New in version 2.4.||\n",
    "|Counter|**dict** subclass for counting hashable objects|New in version 2.7.|用于计数的字典|\n",
    "|OrderedDict|**dict** subclass that remembers the order entries were added|New in version 2.7.|用于记忆元素顺序的字典|\n",
    "|defaultdict|**dict** subclass that calls a factory function to supply missing values|New in version 2.5.|带有初始化功能的字典|"
   ]
  },
  {
   "cell_type": "code",
   "execution_count": 9,
   "metadata": {},
   "outputs": [],
   "source": [
    "from collections import Counter, defaultdict"
   ]
  },
  {
   "cell_type": "markdown",
   "metadata": {},
   "source": [
    "## 计数方法二：collections.Counter([n])\n",
    "用于计数，美滋滋\n",
    "    \n",
    ">1. Counter()对象，并计数\n",
    ">2. Counter().most_common([n]), 返回top n的元素 "
   ]
  },
  {
   "cell_type": "code",
   "execution_count": 10,
   "metadata": {},
   "outputs": [],
   "source": [
    "cnt = Counter()\n",
    "for word in words:\n",
    "    cnt[word] += 1"
   ]
  },
  {
   "cell_type": "code",
   "execution_count": 11,
   "metadata": {},
   "outputs": [
    {
     "name": "stdout",
     "output_type": "stream",
     "text": [
      "apple 4\n",
      "bear 4\n",
      "cocona 3\n",
      "cyan 3\n",
      "arguement 1\n",
      "banana 1\n"
     ]
    }
   ],
   "source": [
    "for k, v in cnt.most_common():\n",
    "    print(k, v)"
   ]
  },
  {
   "cell_type": "markdown",
   "metadata": {},
   "source": [
    "## 计数方法三: 特殊字典collections.defaultdict(seq)"
   ]
  },
  {
   "cell_type": "code",
   "execution_count": 12,
   "metadata": {},
   "outputs": [],
   "source": [
    "dd = defaultdict(int)"
   ]
  },
  {
   "cell_type": "code",
   "execution_count": 13,
   "metadata": {},
   "outputs": [],
   "source": [
    "for word in words:\n",
    "    dd[word] += 1"
   ]
  },
  {
   "cell_type": "code",
   "execution_count": 14,
   "metadata": {},
   "outputs": [
    {
     "data": {
      "text/plain": [
       "defaultdict(int,\n",
       "            {'apple': 4,\n",
       "             'bear': 4,\n",
       "             'arguement': 1,\n",
       "             'banana': 1,\n",
       "             'cocona': 3,\n",
       "             'cyan': 3})"
      ]
     },
     "execution_count": 14,
     "metadata": {},
     "output_type": "execute_result"
    }
   ],
   "source": [
    "dd"
   ]
  },
  {
   "cell_type": "code",
   "execution_count": 43,
   "metadata": {},
   "outputs": [
    {
     "data": {
      "text/plain": [
       "[('a', ['apple', 'arguement']),\n",
       " ('b', ['bear', 'banana']),\n",
       " ('c', ['cocona', 'cyan'])]"
      ]
     },
     "execution_count": 43,
     "metadata": {},
     "output_type": "execute_result"
    }
   ],
   "source": [
    "new_li = list(new_d.items())\n",
    "new_li"
   ]
  },
  {
   "cell_type": "markdown",
   "metadata": {},
   "source": [
    "## 小结：计数方法对比\n",
    "\n",
    "|数据结构|方法|使用技巧|\n",
    "|--|--|--|\n",
    "|常规字典|d.get(key, arg)|创建空字典->填充元素(关键字:计数)->将元素列表化，并排序->用for循环输出top n|\n",
    "|特殊字典|collections.defaultdict(seq)|创建字典->填充元素并计数<font color=blue>此步简化<font color=black>->将元素列表化，并排序->用for循环输出top n|\n",
    "|特殊字典(计数器)|collections.Counter()|创建计数器->填充元素(关键字:计数)->Counter().most_common(n)输出top n|\n",
    "\n",
    "**速度和效果**：特殊字典(计数器) > 特殊字典defaultdict > 常规字典"
   ]
  },
  {
   "cell_type": "markdown",
   "metadata": {},
   "source": [
    "## 应用: 词云\n",
    "手头有一部《<font color=red>红楼梦<font color=black>》的电子版，想要统计主要人物名字在书中出现的频次，并显示为词云\n",
    "<br>思路和实现：\n",
    "- step1.读取源数据。可能涉及到的问题：汉字解码decoding\n",
    "- step2.词汇/名字截断。可能涉及到的问题：如何实现？ [jieba](https://pypi.org/project/jieba/)\n",
    "- step3.主要人物名字计数。可能涉及到的问题：根据汉字文化，截断后的词汇长度为1，或者长度大于5，均可不计入\n",
    "- step4.非主要人物名字排除, 并生成结果。\n",
    "- step5.显示为词云。[wordcloud](https://pypi.org/project/wordcloud/)"
   ]
  },
  {
   "cell_type": "code",
   "execution_count": 15,
   "metadata": {},
   "outputs": [],
   "source": [
    "from wordcloud import WordCloud as wc\n",
    "import jieba as jb"
   ]
  },
  {
   "cell_type": "code",
   "execution_count": 16,
   "metadata": {},
   "outputs": [],
   "source": [
    "hlm = r\"C:\\Users\\5106001995\\Desktop\\2019_pypj\\_17.word_cloud\\hlm.txt\"\n",
    "with open(hlm, encoding='utf-8', errors='ignore') as f:\n",
    "    s = f.read()"
   ]
  },
  {
   "cell_type": "code",
   "execution_count": 17,
   "metadata": {},
   "outputs": [
    {
     "name": "stderr",
     "output_type": "stream",
     "text": [
      "Building prefix dict from the default dictionary ...\n",
      "Loading model from cache C:\\Users\\510600~1\\AppData\\Local\\Temp\\jieba.cache\n",
      "Loading model cost 0.761 seconds.\n",
      "Prefix dict has been built succesfully.\n"
     ]
    }
   ],
   "source": [
    "w = jb.lcut(s)\n",
    "d = Counter()\n",
    "\n",
    "for i in w:\n",
    "    if len(i) != 1:\n",
    "        d[i] += 1"
   ]
  },
  {
   "cell_type": "code",
   "execution_count": 18,
   "metadata": {},
   "outputs": [],
   "source": [
    "exc = (['什么', '一个', '我们', '那里', '你们', '如今', '知道', '说道', '起来', '姑娘', '这里',\n",
    "        '出来', '他们', '众人', '自己', '一面', '太太', '只见', '怎么', '奶奶', '两个', '没有',\n",
    "        '不是', '不知', '这个', '听见', '这样', '进来', '咱们', '告诉', '就是', '东西', '回来',\n",
    "        '只是', '只得', '老爷', '大家', '丫头', '这些', '不敢', '出去', '所以', '不过', '的话',\n",
    "        '不好', '姐姐', '一时', '不能', '过来', '心里', '二爷', '如此', '今日', '银子', '几个',\n",
    "        '答应', '二人', '还有', '只管', '老太太', '这么', '说话', '一回', '那边', '这话', '外头',\n",
    "        '打发', '自然', '今儿', '罢了', '屋里', '那些', '听说', '小丫头'\n",
    "        ])\n",
    "\n",
    "for i in exc:\n",
    "    del(d[i])"
   ]
  },
  {
   "cell_type": "code",
   "execution_count": 19,
   "metadata": {},
   "outputs": [
    {
     "name": "stdout",
     "output_type": "stream",
     "text": [
      "宝玉          3748\n",
      "贾母          1227\n",
      "凤姐          1099\n",
      "王夫人         1011\n",
      "贾琏           670\n",
      "平儿           588\n",
      "袭人           585\n",
      "宝钗           567\n",
      "黛玉           560\n",
      "凤姐儿          470\n",
      "薛姨妈          453\n",
      "探春           432\n",
      "鸳鸯           425\n",
      "贾政           350\n",
      "晴雯           336\n"
     ]
    }
   ],
   "source": [
    "for k, v in d.most_common(15):\n",
    "    print(\"{0:<10} {1:>5}\".format(k, v))"
   ]
  },
  {
   "cell_type": "code",
   "execution_count": 20,
   "metadata": {},
   "outputs": [],
   "source": [
    "nw = ''\n",
    "for k, v in d.most_common(15):\n",
    "    nw = nw + k + ' '\n",
    "wdcd = (wc(\n",
    "            background_color='black',\n",
    "            width=400,\n",
    "            height=320,\n",
    "            font_path='msyh.ttc',\n",
    "            max_words=15,\n",
    "            max_font_size=80,\n",
    "            stopwords=exc\n",
    "        ).generate(nw))"
   ]
  },
  {
   "cell_type": "code",
   "execution_count": 22,
   "metadata": {},
   "outputs": [],
   "source": [
    "import os \n",
    "to_filepath = os.path.join(os.path.split(hlm)[0], 'hlmcy.png')\n",
    "wdcd.to_file(to_filepath)\n",
    "os.startfile(to_filepath)"
   ]
  }
 ],
 "metadata": {
  "kernelspec": {
   "display_name": "Python 3",
   "language": "python",
   "name": "python3"
  },
  "language_info": {
   "codemirror_mode": {
    "name": "ipython",
    "version": 3
   },
   "file_extension": ".py",
   "mimetype": "text/x-python",
   "name": "python",
   "nbconvert_exporter": "python",
   "pygments_lexer": "ipython3",
   "version": "3.7.2"
  }
 },
 "nbformat": 4,
 "nbformat_minor": 2
}
