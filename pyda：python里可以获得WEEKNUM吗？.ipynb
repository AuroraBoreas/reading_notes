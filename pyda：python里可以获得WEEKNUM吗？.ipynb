{
 "cells": [
  {
   "cell_type": "markdown",
   "metadata": {},
   "source": [
    "## 前言\n",
    "EXCEL里weeknum(date)函数很好用。可以直截了当的得到周号。\n",
    "<br>\n",
    "我无所不能的python，没有理由不能实现"
   ]
  },
  {
   "cell_type": "markdown",
   "metadata": {},
   "source": [
    "## 如何用datetime模块获得weeknum?\n",
    "1. 尝试一：datetime.datetime.now() instance里.weeknum()-> 不存在\n",
    "2. 尝试二：datetime.datetime.now().isocalendar()[1] -> [SO](https://stackoverflow.com/questions/2600775/how-to-get-week-number-in-python)\n",
    "3. 尝试三：datetime.datetime.now().strftime('%W') ->参数可选:'%V', '%W'。详见[python doc](https://docs.python.org/3/library/datetime.html#strftime-strptime-behavior)"
   ]
  },
  {
   "cell_type": "code",
   "execution_count": 2,
   "metadata": {},
   "outputs": [],
   "source": [
    "from datetime import datetime"
   ]
  },
  {
   "cell_type": "code",
   "execution_count": 3,
   "metadata": {},
   "outputs": [
    {
     "ename": "AttributeError",
     "evalue": "'datetime.datetime' object has no attribute 'weeknum'",
     "output_type": "error",
     "traceback": [
      "\u001b[1;31m---------------------------------------------------------------------------\u001b[0m",
      "\u001b[1;31mAttributeError\u001b[0m                            Traceback (most recent call last)",
      "\u001b[1;32m<ipython-input-3-f91849386f84>\u001b[0m in \u001b[0;36m<module>\u001b[1;34m\u001b[0m\n\u001b[0;32m      1\u001b[0m \u001b[0mtoday\u001b[0m \u001b[1;33m=\u001b[0m \u001b[0mdatetime\u001b[0m\u001b[1;33m.\u001b[0m\u001b[0mnow\u001b[0m\u001b[1;33m(\u001b[0m\u001b[1;33m)\u001b[0m\u001b[1;33m\u001b[0m\u001b[1;33m\u001b[0m\u001b[0m\n\u001b[1;32m----> 2\u001b[1;33m \u001b[0mtoday\u001b[0m\u001b[1;33m.\u001b[0m\u001b[0mweeknum\u001b[0m\u001b[1;33m(\u001b[0m\u001b[1;33m)\u001b[0m\u001b[1;33m\u001b[0m\u001b[1;33m\u001b[0m\u001b[0m\n\u001b[0m",
      "\u001b[1;31mAttributeError\u001b[0m: 'datetime.datetime' object has no attribute 'weeknum'"
     ]
    }
   ],
   "source": [
    "today = datetime.now()\n",
    "# today.weeknum()"
   ]
  },
  {
   "cell_type": "code",
   "execution_count": 5,
   "metadata": {},
   "outputs": [
    {
     "data": {
      "text/plain": [
       "32"
      ]
     },
     "execution_count": 5,
     "metadata": {},
     "output_type": "execute_result"
    }
   ],
   "source": [
    "today.isocalendar()[1]"
   ]
  },
  {
   "cell_type": "markdown",
   "metadata": {},
   "source": [
    "## 参数不同，结果差异对比\n",
    "\n",
    "|Directive|Meaning|Example|Notes|\n",
    "|:--|--|--|--|\n",
    "|%a|Weekday as locale’s abbreviated name.|Sun, Mon, …, Sat (en_US); So, Mo, …, Sa (de_DE)|-1|\n",
    "|%A|Weekday as locale’s full name.|Sunday, Monday, …, Saturday (en_US);Sonntag, Montag, …, Samstag (de_DE)|-1|\n",
    "|%w|Weekday as a decimal number, where 0 is Sunday and 6 is Saturday.|0, 1, …, 6||\n",
    "|%d|Day of the month as a zero-padded decimal number.|01, 02, …, 31|-9|\n",
    "|%b|Month as locale’s abbreviated name.|Jan, Feb, …, Dec (en_US);Jan, Feb, …, Dez (de_DE)|-1|\n",
    "|%B|Month as locale’s full name.|January, February, …, December (en_US);Januar, Februar, …, Dezember (de_DE)|-1|\n",
    "|%m|Month as a zero-padded decimal number.|01, 02, …, 12|-9|\n",
    "|%y|Year without century as a zero-padded decimal number.|00, 01, …, 99|-9|\n",
    "|%Y|Year with century as a decimal number.|0001, 0002, …, 2013, 2014, …, 9998, 9999|-2|\n",
    "|%H|Hour (24-hour clock) as a zero-padded decimal number.|00, 01, …, 23|-9|\n",
    "|%I|Hour (12-hour clock) as a zero-padded decimal number.|01, 02, …, 12|-9|\n",
    "|%p|Locale’s equivalent of either AM or PM.|AM, PM (en_US);am, pm (de_DE)|(1), (3)|\n",
    "|%M|Minute as a zero-padded decimal number.|00, 01, …, 59|-9|\n",
    "|%S|Second as a zero-padded decimal number.|00, 01, …, 59|(4), (9)|\n",
    "|%f|Microsecond as a decimal number, zero-padded on the left.|000000, 000001, …, 999999|-5|\n",
    "|%z|UTC offset in the form ±HHMM[SS[.ffffff]] (empty string if the object is naive).|(empty), +0000, -0400, +1030, +063415, -030712.345216|-6|\n",
    "|%Z|Time zone name (empty string if the object is naive).|(empty), UTC, EST, CST||\n",
    "|%j|Day of the year as a zero-padded decimal number.|001, 002, …, 366|-9|\n",
    "|%U|Week number of the year (Sunday as the first day of the week) as a zero padded decimal number. All days in a new year preceding the first Sunday are considered to be in week 0.|00, 01, …, 53|(7), (9)|\n",
    "|%W|Week number of the year (Monday as the first day of the week) as a decimal number. All days in a new year preceding the first Monday are considered to be in week 0.|00, 01, …, 53|(7), (9)|\n",
    "|%c|Locale’s appropriate date and time representation.|Tue Aug 16 21:30:00 1988 (en_US);Di 16 Aug 21:30:00 1988 (de_DE)|-1|\n",
    "|%x|Locale’s appropriate date representation.|08/16/88 (None); 08/16/1988 (en_US);16.08.1988 (de_DE)|-1|\n",
    "|%X|Locale’s appropriate time representation.|21:30:00 (en_US);21:30:00 (de_DE)|-1|\n",
    "|%%|A literal '%' character.|%||\n",
    "\n",
    "|Directive|Meaning|Example|Notes|\n",
    "|--|--|--|--|\n",
    "|%G|ISO 8601 year with century representing the year that contains the greater part of the ISO week (%V).|0001, 0002, …, 2013, 2014, …, 9998, 9999|-8|\n",
    "|%u|ISO 8601 weekday as a decimal number where 1 is Monday.|1, 2, …, 7||\n",
    "|%V|ISO 8601 week as a decimal number with Monday as the first day of the week. Week 01 is the week containing Jan 4.|01, 02, …, 53|(8), (9)|"
   ]
  },
  {
   "cell_type": "code",
   "execution_count": 8,
   "metadata": {},
   "outputs": [
    {
     "data": {
      "text/plain": [
       "'31'"
      ]
     },
     "execution_count": 8,
     "metadata": {},
     "output_type": "execute_result"
    }
   ],
   "source": [
    "today.strftime('%W')"
   ]
  },
  {
   "cell_type": "code",
   "execution_count": 9,
   "metadata": {},
   "outputs": [
    {
     "data": {
      "text/plain": [
       "'32'"
      ]
     },
     "execution_count": 9,
     "metadata": {},
     "output_type": "execute_result"
    }
   ],
   "source": [
    "today.strftime('%V')"
   ]
  },
  {
   "cell_type": "code",
   "execution_count": 7,
   "metadata": {},
   "outputs": [],
   "source": [
    "from dateutil.parser import parse\n",
    "import pandas as pd\n",
    "from datetime import datetime"
   ]
  },
  {
   "cell_type": "code",
   "execution_count": 8,
   "metadata": {},
   "outputs": [
    {
     "data": {
      "text/plain": [
       "datetime.datetime(2019, 8, 15, 3, 29, 40)"
      ]
     },
     "execution_count": 8,
     "metadata": {},
     "output_type": "execute_result"
    }
   ],
   "source": [
    "parse('20190815032940')"
   ]
  },
  {
   "cell_type": "code",
   "execution_count": 9,
   "metadata": {},
   "outputs": [
    {
     "data": {
      "text/plain": [
       "Timestamp('2019-08-15 03:29:40')"
      ]
     },
     "execution_count": 9,
     "metadata": {},
     "output_type": "execute_result"
    }
   ],
   "source": [
    "pd.to_datetime(parse('20190815032940'))"
   ]
  },
  {
   "cell_type": "code",
   "execution_count": null,
   "metadata": {},
   "outputs": [],
   "source": []
  }
 ],
 "metadata": {
  "kernelspec": {
   "display_name": "Python 3",
   "language": "python",
   "name": "python3"
  },
  "language_info": {
   "codemirror_mode": {
    "name": "ipython",
    "version": 3
   },
   "file_extension": ".py",
   "mimetype": "text/x-python",
   "name": "python",
   "nbconvert_exporter": "python",
   "pygments_lexer": "ipython3",
   "version": "3.7.2"
  }
 },
 "nbformat": 4,
 "nbformat_minor": 2
}
